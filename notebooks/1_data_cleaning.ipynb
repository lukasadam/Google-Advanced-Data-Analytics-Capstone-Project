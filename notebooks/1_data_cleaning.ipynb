{
 "cells": [
  {
   "cell_type": "markdown",
   "metadata": {
    "id": "ysS5rgTMWpwL"
   },
   "source": [
    "# 01 - Data cleaning"
   ]
  },
  {
   "cell_type": "markdown",
   "metadata": {
    "id": "51UAXIOLC_8P"
   },
   "source": [
    "### Import packages"
   ]
  },
  {
   "cell_type": "code",
   "execution_count": 1,
   "metadata": {
    "id": "hVWGpX9As4e1"
   },
   "outputs": [],
   "source": [
    "# Import packages\n",
    "import os\n",
    "import numpy as np\n",
    "import pandas as pd\n",
    "import seaborn as sns\n",
    "import scipy.stats as stats\n",
    "import matplotlib.pyplot as plt\n",
    "from pathlib import Path\n",
    "from statsmodels.stats.outliers_influence import variance_inflation_factor\n",
    "from statsmodels.tools.tools import add_constant\n",
    "\n",
    "# Set base directory \n",
    "base_dir = Path(os.getcwd()).parent\n",
    "\n",
    "# Set default figure directory\n",
    "fig_dir = base_dir / \"figures\"\n",
    "fig_dir.mkdir(parents=True, exist_ok=True)\n",
    "\n",
    "# Set matplotlib backend to PDF-friendly (optional, for consistent rendering)\n",
    "plt.rcParams[\"pdf.fonttype\"] = 42  # Ensures text is saved as text (not paths)\n",
    "plt.rcParams[\"ps.fonttype\"] = 42"
   ]
  },
  {
   "cell_type": "markdown",
   "metadata": {},
   "source": [
    "### Load data"
   ]
  },
  {
   "cell_type": "code",
   "execution_count": 2,
   "metadata": {
    "id": "Bs0cJR5BDPgQ"
   },
   "outputs": [
    {
     "data": {
      "application/vnd.microsoft.datawrangler.viewer.v0+json": {
       "columns": [
        {
         "name": "index",
         "rawType": "int64",
         "type": "integer"
        },
        {
         "name": "satisfaction_level",
         "rawType": "float64",
         "type": "float"
        },
        {
         "name": "last_evaluation",
         "rawType": "float64",
         "type": "float"
        },
        {
         "name": "number_project",
         "rawType": "int64",
         "type": "integer"
        },
        {
         "name": "average_montly_hours",
         "rawType": "int64",
         "type": "integer"
        },
        {
         "name": "time_spend_company",
         "rawType": "int64",
         "type": "integer"
        },
        {
         "name": "Work_accident",
         "rawType": "int64",
         "type": "integer"
        },
        {
         "name": "left",
         "rawType": "int64",
         "type": "integer"
        },
        {
         "name": "promotion_last_5years",
         "rawType": "int64",
         "type": "integer"
        },
        {
         "name": "Department",
         "rawType": "object",
         "type": "string"
        },
        {
         "name": "salary",
         "rawType": "object",
         "type": "string"
        }
       ],
       "ref": "2ff1f5c8-33f8-4f02-b2e2-c275623a3932",
       "rows": [
        [
         "0",
         "0.38",
         "0.53",
         "2",
         "157",
         "3",
         "0",
         "1",
         "0",
         "sales",
         "low"
        ],
        [
         "1",
         "0.8",
         "0.86",
         "5",
         "262",
         "6",
         "0",
         "1",
         "0",
         "sales",
         "medium"
        ],
        [
         "2",
         "0.11",
         "0.88",
         "7",
         "272",
         "4",
         "0",
         "1",
         "0",
         "sales",
         "medium"
        ],
        [
         "3",
         "0.72",
         "0.87",
         "5",
         "223",
         "5",
         "0",
         "1",
         "0",
         "sales",
         "low"
        ],
        [
         "4",
         "0.37",
         "0.52",
         "2",
         "159",
         "3",
         "0",
         "1",
         "0",
         "sales",
         "low"
        ]
       ],
       "shape": {
        "columns": 10,
        "rows": 5
       }
      },
      "text/html": [
       "<div>\n",
       "<style scoped>\n",
       "    .dataframe tbody tr th:only-of-type {\n",
       "        vertical-align: middle;\n",
       "    }\n",
       "\n",
       "    .dataframe tbody tr th {\n",
       "        vertical-align: top;\n",
       "    }\n",
       "\n",
       "    .dataframe thead th {\n",
       "        text-align: right;\n",
       "    }\n",
       "</style>\n",
       "<table border=\"1\" class=\"dataframe\">\n",
       "  <thead>\n",
       "    <tr style=\"text-align: right;\">\n",
       "      <th></th>\n",
       "      <th>satisfaction_level</th>\n",
       "      <th>last_evaluation</th>\n",
       "      <th>number_project</th>\n",
       "      <th>average_montly_hours</th>\n",
       "      <th>time_spend_company</th>\n",
       "      <th>Work_accident</th>\n",
       "      <th>left</th>\n",
       "      <th>promotion_last_5years</th>\n",
       "      <th>Department</th>\n",
       "      <th>salary</th>\n",
       "    </tr>\n",
       "  </thead>\n",
       "  <tbody>\n",
       "    <tr>\n",
       "      <th>0</th>\n",
       "      <td>0.38</td>\n",
       "      <td>0.53</td>\n",
       "      <td>2</td>\n",
       "      <td>157</td>\n",
       "      <td>3</td>\n",
       "      <td>0</td>\n",
       "      <td>1</td>\n",
       "      <td>0</td>\n",
       "      <td>sales</td>\n",
       "      <td>low</td>\n",
       "    </tr>\n",
       "    <tr>\n",
       "      <th>1</th>\n",
       "      <td>0.80</td>\n",
       "      <td>0.86</td>\n",
       "      <td>5</td>\n",
       "      <td>262</td>\n",
       "      <td>6</td>\n",
       "      <td>0</td>\n",
       "      <td>1</td>\n",
       "      <td>0</td>\n",
       "      <td>sales</td>\n",
       "      <td>medium</td>\n",
       "    </tr>\n",
       "    <tr>\n",
       "      <th>2</th>\n",
       "      <td>0.11</td>\n",
       "      <td>0.88</td>\n",
       "      <td>7</td>\n",
       "      <td>272</td>\n",
       "      <td>4</td>\n",
       "      <td>0</td>\n",
       "      <td>1</td>\n",
       "      <td>0</td>\n",
       "      <td>sales</td>\n",
       "      <td>medium</td>\n",
       "    </tr>\n",
       "    <tr>\n",
       "      <th>3</th>\n",
       "      <td>0.72</td>\n",
       "      <td>0.87</td>\n",
       "      <td>5</td>\n",
       "      <td>223</td>\n",
       "      <td>5</td>\n",
       "      <td>0</td>\n",
       "      <td>1</td>\n",
       "      <td>0</td>\n",
       "      <td>sales</td>\n",
       "      <td>low</td>\n",
       "    </tr>\n",
       "    <tr>\n",
       "      <th>4</th>\n",
       "      <td>0.37</td>\n",
       "      <td>0.52</td>\n",
       "      <td>2</td>\n",
       "      <td>159</td>\n",
       "      <td>3</td>\n",
       "      <td>0</td>\n",
       "      <td>1</td>\n",
       "      <td>0</td>\n",
       "      <td>sales</td>\n",
       "      <td>low</td>\n",
       "    </tr>\n",
       "  </tbody>\n",
       "</table>\n",
       "</div>"
      ],
      "text/plain": [
       "   satisfaction_level  last_evaluation  number_project  average_montly_hours  \\\n",
       "0                0.38             0.53               2                   157   \n",
       "1                0.80             0.86               5                   262   \n",
       "2                0.11             0.88               7                   272   \n",
       "3                0.72             0.87               5                   223   \n",
       "4                0.37             0.52               2                   159   \n",
       "\n",
       "   time_spend_company  Work_accident  left  promotion_last_5years Department  \\\n",
       "0                   3              0     1                      0      sales   \n",
       "1                   6              0     1                      0      sales   \n",
       "2                   4              0     1                      0      sales   \n",
       "3                   5              0     1                      0      sales   \n",
       "4                   3              0     1                      0      sales   \n",
       "\n",
       "   salary  \n",
       "0     low  \n",
       "1  medium  \n",
       "2  medium  \n",
       "3     low  \n",
       "4     low  "
      ]
     },
     "execution_count": 2,
     "metadata": {},
     "output_type": "execute_result"
    }
   ],
   "source": [
    "# Load the dataset\n",
    "data_dir = base_dir / \"data\" \n",
    "data_file = data_dir / \"raw\" / \"HR_capstone_dataset.csv\"\n",
    "\n",
    "# Read the CSV file into a pandas DataFrame\n",
    "df0 = pd.read_csv(data_file)\n",
    "\n",
    "# Display first few rows of the dataframe\n",
    "df0.head()"
   ]
  },
  {
   "cell_type": "markdown",
   "metadata": {
    "id": "wF_LLorPs5G_"
   },
   "source": [
    "## Initial EDA and data cleaning\n",
    "\n"
   ]
  },
  {
   "cell_type": "markdown",
   "metadata": {
    "id": "3LF6h1v9FYz2"
   },
   "source": [
    "### Gather basic information about the data"
   ]
  },
  {
   "cell_type": "code",
   "execution_count": 3,
   "metadata": {
    "id": "6XbfdPoKurMf"
   },
   "outputs": [
    {
     "name": "stdout",
     "output_type": "stream",
     "text": [
      "<class 'pandas.core.frame.DataFrame'>\n",
      "RangeIndex: 14999 entries, 0 to 14998\n",
      "Data columns (total 10 columns):\n",
      " #   Column                 Non-Null Count  Dtype  \n",
      "---  ------                 --------------  -----  \n",
      " 0   satisfaction_level     14999 non-null  float64\n",
      " 1   last_evaluation        14999 non-null  float64\n",
      " 2   number_project         14999 non-null  int64  \n",
      " 3   average_montly_hours   14999 non-null  int64  \n",
      " 4   time_spend_company     14999 non-null  int64  \n",
      " 5   Work_accident          14999 non-null  int64  \n",
      " 6   left                   14999 non-null  int64  \n",
      " 7   promotion_last_5years  14999 non-null  int64  \n",
      " 8   Department             14999 non-null  object \n",
      " 9   salary                 14999 non-null  object \n",
      "dtypes: float64(2), int64(6), object(2)\n",
      "memory usage: 1.1+ MB\n"
     ]
    }
   ],
   "source": [
    "# Gather basic information about the data\n",
    "df0.info()"
   ]
  },
  {
   "cell_type": "markdown",
   "metadata": {
    "id": "6JMl_rQ1Fgte"
   },
   "source": [
    "### Gather descriptive statistics about the data"
   ]
  },
  {
   "cell_type": "code",
   "execution_count": 4,
   "metadata": {
    "id": "_5VRL-kzE8y1"
   },
   "outputs": [
    {
     "data": {
      "application/vnd.microsoft.datawrangler.viewer.v0+json": {
       "columns": [
        {
         "name": "index",
         "rawType": "object",
         "type": "string"
        },
        {
         "name": "satisfaction_level",
         "rawType": "float64",
         "type": "float"
        },
        {
         "name": "last_evaluation",
         "rawType": "float64",
         "type": "float"
        },
        {
         "name": "number_project",
         "rawType": "float64",
         "type": "float"
        },
        {
         "name": "average_montly_hours",
         "rawType": "float64",
         "type": "float"
        },
        {
         "name": "time_spend_company",
         "rawType": "float64",
         "type": "float"
        },
        {
         "name": "Work_accident",
         "rawType": "float64",
         "type": "float"
        },
        {
         "name": "left",
         "rawType": "float64",
         "type": "float"
        },
        {
         "name": "promotion_last_5years",
         "rawType": "float64",
         "type": "float"
        },
        {
         "name": "Department",
         "rawType": "object",
         "type": "unknown"
        },
        {
         "name": "salary",
         "rawType": "object",
         "type": "unknown"
        }
       ],
       "ref": "97c4f6fd-ce80-4a4f-a3ed-92c629052ad3",
       "rows": [
        [
         "count",
         "14999.0",
         "14999.0",
         "14999.0",
         "14999.0",
         "14999.0",
         "14999.0",
         "14999.0",
         "14999.0",
         "14999",
         "14999"
        ],
        [
         "unique",
         null,
         null,
         null,
         null,
         null,
         null,
         null,
         null,
         "10",
         "3"
        ],
        [
         "top",
         null,
         null,
         null,
         null,
         null,
         null,
         null,
         null,
         "sales",
         "low"
        ],
        [
         "freq",
         null,
         null,
         null,
         null,
         null,
         null,
         null,
         null,
         "4140",
         "7316"
        ],
        [
         "mean",
         "0.6128335222348156",
         "0.7161017401160078",
         "3.80305353690246",
         "201.0503366891126",
         "3.498233215547703",
         "0.1446096406427095",
         "0.2380825388359224",
         "0.021268084538969265",
         null,
         null
        ],
        [
         "std",
         "0.24863065106114257",
         "0.17116911062327533",
         "1.2325923553183522",
         "49.94309937128408",
         "1.4601362305354812",
         "0.35171855238017985",
         "0.4259240993802994",
         "0.14428146457858235",
         null,
         null
        ],
        [
         "min",
         "0.09",
         "0.36",
         "2.0",
         "96.0",
         "2.0",
         "0.0",
         "0.0",
         "0.0",
         null,
         null
        ],
        [
         "25%",
         "0.44",
         "0.56",
         "3.0",
         "156.0",
         "3.0",
         "0.0",
         "0.0",
         "0.0",
         null,
         null
        ],
        [
         "50%",
         "0.64",
         "0.72",
         "4.0",
         "200.0",
         "3.0",
         "0.0",
         "0.0",
         "0.0",
         null,
         null
        ],
        [
         "75%",
         "0.82",
         "0.87",
         "5.0",
         "245.0",
         "4.0",
         "0.0",
         "0.0",
         "0.0",
         null,
         null
        ],
        [
         "max",
         "1.0",
         "1.0",
         "7.0",
         "310.0",
         "10.0",
         "1.0",
         "1.0",
         "1.0",
         null,
         null
        ]
       ],
       "shape": {
        "columns": 10,
        "rows": 11
       }
      },
      "text/html": [
       "<div>\n",
       "<style scoped>\n",
       "    .dataframe tbody tr th:only-of-type {\n",
       "        vertical-align: middle;\n",
       "    }\n",
       "\n",
       "    .dataframe tbody tr th {\n",
       "        vertical-align: top;\n",
       "    }\n",
       "\n",
       "    .dataframe thead th {\n",
       "        text-align: right;\n",
       "    }\n",
       "</style>\n",
       "<table border=\"1\" class=\"dataframe\">\n",
       "  <thead>\n",
       "    <tr style=\"text-align: right;\">\n",
       "      <th></th>\n",
       "      <th>satisfaction_level</th>\n",
       "      <th>last_evaluation</th>\n",
       "      <th>number_project</th>\n",
       "      <th>average_montly_hours</th>\n",
       "      <th>time_spend_company</th>\n",
       "      <th>Work_accident</th>\n",
       "      <th>left</th>\n",
       "      <th>promotion_last_5years</th>\n",
       "      <th>Department</th>\n",
       "      <th>salary</th>\n",
       "    </tr>\n",
       "  </thead>\n",
       "  <tbody>\n",
       "    <tr>\n",
       "      <th>count</th>\n",
       "      <td>14999.000000</td>\n",
       "      <td>14999.000000</td>\n",
       "      <td>14999.000000</td>\n",
       "      <td>14999.000000</td>\n",
       "      <td>14999.000000</td>\n",
       "      <td>14999.000000</td>\n",
       "      <td>14999.000000</td>\n",
       "      <td>14999.000000</td>\n",
       "      <td>14999</td>\n",
       "      <td>14999</td>\n",
       "    </tr>\n",
       "    <tr>\n",
       "      <th>unique</th>\n",
       "      <td>NaN</td>\n",
       "      <td>NaN</td>\n",
       "      <td>NaN</td>\n",
       "      <td>NaN</td>\n",
       "      <td>NaN</td>\n",
       "      <td>NaN</td>\n",
       "      <td>NaN</td>\n",
       "      <td>NaN</td>\n",
       "      <td>10</td>\n",
       "      <td>3</td>\n",
       "    </tr>\n",
       "    <tr>\n",
       "      <th>top</th>\n",
       "      <td>NaN</td>\n",
       "      <td>NaN</td>\n",
       "      <td>NaN</td>\n",
       "      <td>NaN</td>\n",
       "      <td>NaN</td>\n",
       "      <td>NaN</td>\n",
       "      <td>NaN</td>\n",
       "      <td>NaN</td>\n",
       "      <td>sales</td>\n",
       "      <td>low</td>\n",
       "    </tr>\n",
       "    <tr>\n",
       "      <th>freq</th>\n",
       "      <td>NaN</td>\n",
       "      <td>NaN</td>\n",
       "      <td>NaN</td>\n",
       "      <td>NaN</td>\n",
       "      <td>NaN</td>\n",
       "      <td>NaN</td>\n",
       "      <td>NaN</td>\n",
       "      <td>NaN</td>\n",
       "      <td>4140</td>\n",
       "      <td>7316</td>\n",
       "    </tr>\n",
       "    <tr>\n",
       "      <th>mean</th>\n",
       "      <td>0.612834</td>\n",
       "      <td>0.716102</td>\n",
       "      <td>3.803054</td>\n",
       "      <td>201.050337</td>\n",
       "      <td>3.498233</td>\n",
       "      <td>0.144610</td>\n",
       "      <td>0.238083</td>\n",
       "      <td>0.021268</td>\n",
       "      <td>NaN</td>\n",
       "      <td>NaN</td>\n",
       "    </tr>\n",
       "    <tr>\n",
       "      <th>std</th>\n",
       "      <td>0.248631</td>\n",
       "      <td>0.171169</td>\n",
       "      <td>1.232592</td>\n",
       "      <td>49.943099</td>\n",
       "      <td>1.460136</td>\n",
       "      <td>0.351719</td>\n",
       "      <td>0.425924</td>\n",
       "      <td>0.144281</td>\n",
       "      <td>NaN</td>\n",
       "      <td>NaN</td>\n",
       "    </tr>\n",
       "    <tr>\n",
       "      <th>min</th>\n",
       "      <td>0.090000</td>\n",
       "      <td>0.360000</td>\n",
       "      <td>2.000000</td>\n",
       "      <td>96.000000</td>\n",
       "      <td>2.000000</td>\n",
       "      <td>0.000000</td>\n",
       "      <td>0.000000</td>\n",
       "      <td>0.000000</td>\n",
       "      <td>NaN</td>\n",
       "      <td>NaN</td>\n",
       "    </tr>\n",
       "    <tr>\n",
       "      <th>25%</th>\n",
       "      <td>0.440000</td>\n",
       "      <td>0.560000</td>\n",
       "      <td>3.000000</td>\n",
       "      <td>156.000000</td>\n",
       "      <td>3.000000</td>\n",
       "      <td>0.000000</td>\n",
       "      <td>0.000000</td>\n",
       "      <td>0.000000</td>\n",
       "      <td>NaN</td>\n",
       "      <td>NaN</td>\n",
       "    </tr>\n",
       "    <tr>\n",
       "      <th>50%</th>\n",
       "      <td>0.640000</td>\n",
       "      <td>0.720000</td>\n",
       "      <td>4.000000</td>\n",
       "      <td>200.000000</td>\n",
       "      <td>3.000000</td>\n",
       "      <td>0.000000</td>\n",
       "      <td>0.000000</td>\n",
       "      <td>0.000000</td>\n",
       "      <td>NaN</td>\n",
       "      <td>NaN</td>\n",
       "    </tr>\n",
       "    <tr>\n",
       "      <th>75%</th>\n",
       "      <td>0.820000</td>\n",
       "      <td>0.870000</td>\n",
       "      <td>5.000000</td>\n",
       "      <td>245.000000</td>\n",
       "      <td>4.000000</td>\n",
       "      <td>0.000000</td>\n",
       "      <td>0.000000</td>\n",
       "      <td>0.000000</td>\n",
       "      <td>NaN</td>\n",
       "      <td>NaN</td>\n",
       "    </tr>\n",
       "    <tr>\n",
       "      <th>max</th>\n",
       "      <td>1.000000</td>\n",
       "      <td>1.000000</td>\n",
       "      <td>7.000000</td>\n",
       "      <td>310.000000</td>\n",
       "      <td>10.000000</td>\n",
       "      <td>1.000000</td>\n",
       "      <td>1.000000</td>\n",
       "      <td>1.000000</td>\n",
       "      <td>NaN</td>\n",
       "      <td>NaN</td>\n",
       "    </tr>\n",
       "  </tbody>\n",
       "</table>\n",
       "</div>"
      ],
      "text/plain": [
       "        satisfaction_level  last_evaluation  number_project  \\\n",
       "count         14999.000000     14999.000000    14999.000000   \n",
       "unique                 NaN              NaN             NaN   \n",
       "top                    NaN              NaN             NaN   \n",
       "freq                   NaN              NaN             NaN   \n",
       "mean              0.612834         0.716102        3.803054   \n",
       "std               0.248631         0.171169        1.232592   \n",
       "min               0.090000         0.360000        2.000000   \n",
       "25%               0.440000         0.560000        3.000000   \n",
       "50%               0.640000         0.720000        4.000000   \n",
       "75%               0.820000         0.870000        5.000000   \n",
       "max               1.000000         1.000000        7.000000   \n",
       "\n",
       "        average_montly_hours  time_spend_company  Work_accident          left  \\\n",
       "count           14999.000000        14999.000000   14999.000000  14999.000000   \n",
       "unique                   NaN                 NaN            NaN           NaN   \n",
       "top                      NaN                 NaN            NaN           NaN   \n",
       "freq                     NaN                 NaN            NaN           NaN   \n",
       "mean              201.050337            3.498233       0.144610      0.238083   \n",
       "std                49.943099            1.460136       0.351719      0.425924   \n",
       "min                96.000000            2.000000       0.000000      0.000000   \n",
       "25%               156.000000            3.000000       0.000000      0.000000   \n",
       "50%               200.000000            3.000000       0.000000      0.000000   \n",
       "75%               245.000000            4.000000       0.000000      0.000000   \n",
       "max               310.000000           10.000000       1.000000      1.000000   \n",
       "\n",
       "        promotion_last_5years Department salary  \n",
       "count            14999.000000      14999  14999  \n",
       "unique                    NaN         10      3  \n",
       "top                       NaN      sales    low  \n",
       "freq                      NaN       4140   7316  \n",
       "mean                 0.021268        NaN    NaN  \n",
       "std                  0.144281        NaN    NaN  \n",
       "min                  0.000000        NaN    NaN  \n",
       "25%                  0.000000        NaN    NaN  \n",
       "50%                  0.000000        NaN    NaN  \n",
       "75%                  0.000000        NaN    NaN  \n",
       "max                  1.000000        NaN    NaN  "
      ]
     },
     "execution_count": 4,
     "metadata": {},
     "output_type": "execute_result"
    }
   ],
   "source": [
    "# Gather descriptive statistics about the data\n",
    "df0.describe(include='all')"
   ]
  },
  {
   "cell_type": "markdown",
   "metadata": {
    "id": "QR7eFNU0FklJ"
   },
   "source": [
    "### Rename columns"
   ]
  },
  {
   "cell_type": "code",
   "execution_count": 5,
   "metadata": {
    "id": "kEn21u2bqrEI"
   },
   "outputs": [
    {
     "data": {
      "application/vnd.microsoft.datawrangler.viewer.v0+json": {
       "columns": [
        {
         "name": "index",
         "rawType": "int64",
         "type": "integer"
        },
        {
         "name": "satisfaction_level",
         "rawType": "float64",
         "type": "float"
        },
        {
         "name": "last_evaluation",
         "rawType": "float64",
         "type": "float"
        },
        {
         "name": "number_project",
         "rawType": "int64",
         "type": "integer"
        },
        {
         "name": "average_montly_hours",
         "rawType": "int64",
         "type": "integer"
        },
        {
         "name": "time_spend_company",
         "rawType": "int64",
         "type": "integer"
        },
        {
         "name": "work_accident",
         "rawType": "int64",
         "type": "integer"
        },
        {
         "name": "has_left_company",
         "rawType": "int64",
         "type": "integer"
        },
        {
         "name": "promotion_last_5years",
         "rawType": "int64",
         "type": "integer"
        },
        {
         "name": "department",
         "rawType": "object",
         "type": "string"
        },
        {
         "name": "salary",
         "rawType": "object",
         "type": "string"
        }
       ],
       "ref": "950f254d-14a4-4965-9e12-a2cfab7d1dcb",
       "rows": [
        [
         "0",
         "0.38",
         "0.53",
         "2",
         "157",
         "3",
         "0",
         "1",
         "0",
         "sales",
         "low"
        ],
        [
         "1",
         "0.8",
         "0.86",
         "5",
         "262",
         "6",
         "0",
         "1",
         "0",
         "sales",
         "medium"
        ],
        [
         "2",
         "0.11",
         "0.88",
         "7",
         "272",
         "4",
         "0",
         "1",
         "0",
         "sales",
         "medium"
        ],
        [
         "3",
         "0.72",
         "0.87",
         "5",
         "223",
         "5",
         "0",
         "1",
         "0",
         "sales",
         "low"
        ],
        [
         "4",
         "0.37",
         "0.52",
         "2",
         "159",
         "3",
         "0",
         "1",
         "0",
         "sales",
         "low"
        ]
       ],
       "shape": {
        "columns": 10,
        "rows": 5
       }
      },
      "text/html": [
       "<div>\n",
       "<style scoped>\n",
       "    .dataframe tbody tr th:only-of-type {\n",
       "        vertical-align: middle;\n",
       "    }\n",
       "\n",
       "    .dataframe tbody tr th {\n",
       "        vertical-align: top;\n",
       "    }\n",
       "\n",
       "    .dataframe thead th {\n",
       "        text-align: right;\n",
       "    }\n",
       "</style>\n",
       "<table border=\"1\" class=\"dataframe\">\n",
       "  <thead>\n",
       "    <tr style=\"text-align: right;\">\n",
       "      <th></th>\n",
       "      <th>satisfaction_level</th>\n",
       "      <th>last_evaluation</th>\n",
       "      <th>number_project</th>\n",
       "      <th>average_montly_hours</th>\n",
       "      <th>time_spend_company</th>\n",
       "      <th>work_accident</th>\n",
       "      <th>has_left_company</th>\n",
       "      <th>promotion_last_5years</th>\n",
       "      <th>department</th>\n",
       "      <th>salary</th>\n",
       "    </tr>\n",
       "  </thead>\n",
       "  <tbody>\n",
       "    <tr>\n",
       "      <th>0</th>\n",
       "      <td>0.38</td>\n",
       "      <td>0.53</td>\n",
       "      <td>2</td>\n",
       "      <td>157</td>\n",
       "      <td>3</td>\n",
       "      <td>0</td>\n",
       "      <td>1</td>\n",
       "      <td>0</td>\n",
       "      <td>sales</td>\n",
       "      <td>low</td>\n",
       "    </tr>\n",
       "    <tr>\n",
       "      <th>1</th>\n",
       "      <td>0.80</td>\n",
       "      <td>0.86</td>\n",
       "      <td>5</td>\n",
       "      <td>262</td>\n",
       "      <td>6</td>\n",
       "      <td>0</td>\n",
       "      <td>1</td>\n",
       "      <td>0</td>\n",
       "      <td>sales</td>\n",
       "      <td>medium</td>\n",
       "    </tr>\n",
       "    <tr>\n",
       "      <th>2</th>\n",
       "      <td>0.11</td>\n",
       "      <td>0.88</td>\n",
       "      <td>7</td>\n",
       "      <td>272</td>\n",
       "      <td>4</td>\n",
       "      <td>0</td>\n",
       "      <td>1</td>\n",
       "      <td>0</td>\n",
       "      <td>sales</td>\n",
       "      <td>medium</td>\n",
       "    </tr>\n",
       "    <tr>\n",
       "      <th>3</th>\n",
       "      <td>0.72</td>\n",
       "      <td>0.87</td>\n",
       "      <td>5</td>\n",
       "      <td>223</td>\n",
       "      <td>5</td>\n",
       "      <td>0</td>\n",
       "      <td>1</td>\n",
       "      <td>0</td>\n",
       "      <td>sales</td>\n",
       "      <td>low</td>\n",
       "    </tr>\n",
       "    <tr>\n",
       "      <th>4</th>\n",
       "      <td>0.37</td>\n",
       "      <td>0.52</td>\n",
       "      <td>2</td>\n",
       "      <td>159</td>\n",
       "      <td>3</td>\n",
       "      <td>0</td>\n",
       "      <td>1</td>\n",
       "      <td>0</td>\n",
       "      <td>sales</td>\n",
       "      <td>low</td>\n",
       "    </tr>\n",
       "  </tbody>\n",
       "</table>\n",
       "</div>"
      ],
      "text/plain": [
       "   satisfaction_level  last_evaluation  number_project  average_montly_hours  \\\n",
       "0                0.38             0.53               2                   157   \n",
       "1                0.80             0.86               5                   262   \n",
       "2                0.11             0.88               7                   272   \n",
       "3                0.72             0.87               5                   223   \n",
       "4                0.37             0.52               2                   159   \n",
       "\n",
       "   time_spend_company  work_accident  has_left_company  promotion_last_5years  \\\n",
       "0                   3              0                 1                      0   \n",
       "1                   6              0                 1                      0   \n",
       "2                   4              0                 1                      0   \n",
       "3                   5              0                 1                      0   \n",
       "4                   3              0                 1                      0   \n",
       "\n",
       "  department  salary  \n",
       "0      sales     low  \n",
       "1      sales  medium  \n",
       "2      sales  medium  \n",
       "3      sales     low  \n",
       "4      sales     low  "
      ]
     },
     "execution_count": 5,
     "metadata": {},
     "output_type": "execute_result"
    }
   ],
   "source": [
    "# Get the list of columns in the DataFrame\n",
    "columns = df0.columns.tolist()\n",
    "\n",
    "# Standardize column names\n",
    "columns = [col.lower().replace(\" \", \"_\") for col in columns]\n",
    "\n",
    "# Rename 'left' column to 'has_left_company'\n",
    "columns = ['has_left_company' if col == 'left' else col for col in columns]\n",
    "\n",
    "# Update the DataFrame with standardized column names\n",
    "df0.columns = columns\n",
    "\n",
    "# Display the updated DataFrame with standardized column names\n",
    "df0.head()"
   ]
  },
  {
   "cell_type": "markdown",
   "metadata": {},
   "source": [
    "### Rename entries"
   ]
  },
  {
   "cell_type": "code",
   "execution_count": 6,
   "metadata": {},
   "outputs": [],
   "source": [
    "# Rename entries in the 'has_left_company' column for easier interpretation\n",
    "df0['has_left_company'] = df0['has_left_company'].replace({1: 'Left', 0: 'Stayed'})\n",
    "\n",
    "# Convert promotion_last_5years to a categorical variable\n",
    "df0['promotion_last_5years'] = df0['promotion_last_5years'].replace({1: 'Promoted', 0: 'Not promoted'})\n",
    "\n",
    "# Convert work_accident to a categorical variable\n",
    "df0['work_accident'] = df0['work_accident'].replace({1: 'Accident', 0: 'No Accident'})"
   ]
  },
  {
   "cell_type": "markdown",
   "metadata": {
    "id": "e-G2QlQxBq__"
   },
   "source": [
    "### Check missing values"
   ]
  },
  {
   "cell_type": "markdown",
   "metadata": {
    "id": "GeiUUqeaBt-I"
   },
   "source": [
    "Check for any missing values in the data."
   ]
  },
  {
   "cell_type": "code",
   "execution_count": 7,
   "metadata": {
    "id": "EN9MvN0GByVV"
   },
   "outputs": [
    {
     "name": "stdout",
     "output_type": "stream",
     "text": [
      "Missing values in each column:\n",
      "satisfaction_level       0\n",
      "last_evaluation          0\n",
      "number_project           0\n",
      "average_montly_hours     0\n",
      "time_spend_company       0\n",
      "work_accident            0\n",
      "has_left_company         0\n",
      "promotion_last_5years    0\n",
      "department               0\n",
      "salary                   0\n",
      "dtype: int64\n"
     ]
    }
   ],
   "source": [
    "# Check for missing values\n",
    "missing_values = df0.isnull().sum()\n",
    "print(\"Missing values in each column:\")\n",
    "print(missing_values)"
   ]
  },
  {
   "cell_type": "markdown",
   "metadata": {
    "id": "hBvrijItKQI9"
   },
   "source": [
    "### Check duplicates"
   ]
  },
  {
   "cell_type": "markdown",
   "metadata": {
    "id": "Q7ystBsdsGaL"
   },
   "source": [
    "Check for any duplicate entries in the data."
   ]
  },
  {
   "cell_type": "code",
   "execution_count": 8,
   "metadata": {
    "id": "CFFLc5AOZ7-x"
   },
   "outputs": [
    {
     "name": "stdout",
     "output_type": "stream",
     "text": [
      "Number of duplicate rows: 3008\n"
     ]
    }
   ],
   "source": [
    "# Check for duplicates\n",
    "duplicates = df0.duplicated().sum()\n",
    "print(f\"Number of duplicate rows: {duplicates}\")"
   ]
  },
  {
   "cell_type": "code",
   "execution_count": 9,
   "metadata": {
    "id": "ZHGlDbKAcBLM"
   },
   "outputs": [
    {
     "name": "stdout",
     "output_type": "stream",
     "text": [
      "Sample duplicate rows:\n",
      "      satisfaction_level  last_evaluation  number_project  \\\n",
      "396                 0.46             0.57               2   \n",
      "866                 0.41             0.46               2   \n",
      "1317                0.37             0.51               2   \n",
      "1368                0.41             0.52               2   \n",
      "1461                0.42             0.53               2   \n",
      "\n",
      "      average_montly_hours  time_spend_company work_accident has_left_company  \\\n",
      "396                    139                   3   No Accident             Left   \n",
      "866                    128                   3   No Accident             Left   \n",
      "1317                   127                   3   No Accident             Left   \n",
      "1368                   132                   3   No Accident             Left   \n",
      "1461                   142                   3   No Accident             Left   \n",
      "\n",
      "     promotion_last_5years  department  salary  \n",
      "396           Not promoted       sales     low  \n",
      "866           Not promoted  accounting     low  \n",
      "1317          Not promoted       sales  medium  \n",
      "1368          Not promoted       RandD     low  \n",
      "1461          Not promoted       sales     low  \n"
     ]
    }
   ],
   "source": [
    "# Inspect some rows containing duplicates as needed\n",
    "if duplicates > 0:\n",
    "    print(\"Sample duplicate rows:\")\n",
    "    print(df0[df0.duplicated()].head())"
   ]
  },
  {
   "cell_type": "code",
   "execution_count": 10,
   "metadata": {
    "id": "wCr34Rppdjay"
   },
   "outputs": [
    {
     "data": {
      "application/vnd.microsoft.datawrangler.viewer.v0+json": {
       "columns": [
        {
         "name": "index",
         "rawType": "int64",
         "type": "integer"
        },
        {
         "name": "satisfaction_level",
         "rawType": "float64",
         "type": "float"
        },
        {
         "name": "last_evaluation",
         "rawType": "float64",
         "type": "float"
        },
        {
         "name": "number_project",
         "rawType": "int64",
         "type": "integer"
        },
        {
         "name": "average_montly_hours",
         "rawType": "int64",
         "type": "integer"
        },
        {
         "name": "time_spend_company",
         "rawType": "int64",
         "type": "integer"
        },
        {
         "name": "work_accident",
         "rawType": "object",
         "type": "string"
        },
        {
         "name": "has_left_company",
         "rawType": "object",
         "type": "string"
        },
        {
         "name": "promotion_last_5years",
         "rawType": "object",
         "type": "string"
        },
        {
         "name": "department",
         "rawType": "object",
         "type": "string"
        },
        {
         "name": "salary",
         "rawType": "object",
         "type": "string"
        }
       ],
       "ref": "7b0b32ed-7cb2-46d2-9062-89d6111dcda7",
       "rows": [
        [
         "0",
         "0.38",
         "0.53",
         "2",
         "157",
         "3",
         "No Accident",
         "Left",
         "Not promoted",
         "sales",
         "low"
        ],
        [
         "1",
         "0.8",
         "0.86",
         "5",
         "262",
         "6",
         "No Accident",
         "Left",
         "Not promoted",
         "sales",
         "medium"
        ],
        [
         "2",
         "0.11",
         "0.88",
         "7",
         "272",
         "4",
         "No Accident",
         "Left",
         "Not promoted",
         "sales",
         "medium"
        ],
        [
         "3",
         "0.72",
         "0.87",
         "5",
         "223",
         "5",
         "No Accident",
         "Left",
         "Not promoted",
         "sales",
         "low"
        ],
        [
         "4",
         "0.37",
         "0.52",
         "2",
         "159",
         "3",
         "No Accident",
         "Left",
         "Not promoted",
         "sales",
         "low"
        ]
       ],
       "shape": {
        "columns": 10,
        "rows": 5
       }
      },
      "text/html": [
       "<div>\n",
       "<style scoped>\n",
       "    .dataframe tbody tr th:only-of-type {\n",
       "        vertical-align: middle;\n",
       "    }\n",
       "\n",
       "    .dataframe tbody tr th {\n",
       "        vertical-align: top;\n",
       "    }\n",
       "\n",
       "    .dataframe thead th {\n",
       "        text-align: right;\n",
       "    }\n",
       "</style>\n",
       "<table border=\"1\" class=\"dataframe\">\n",
       "  <thead>\n",
       "    <tr style=\"text-align: right;\">\n",
       "      <th></th>\n",
       "      <th>satisfaction_level</th>\n",
       "      <th>last_evaluation</th>\n",
       "      <th>number_project</th>\n",
       "      <th>average_montly_hours</th>\n",
       "      <th>time_spend_company</th>\n",
       "      <th>work_accident</th>\n",
       "      <th>has_left_company</th>\n",
       "      <th>promotion_last_5years</th>\n",
       "      <th>department</th>\n",
       "      <th>salary</th>\n",
       "    </tr>\n",
       "  </thead>\n",
       "  <tbody>\n",
       "    <tr>\n",
       "      <th>0</th>\n",
       "      <td>0.38</td>\n",
       "      <td>0.53</td>\n",
       "      <td>2</td>\n",
       "      <td>157</td>\n",
       "      <td>3</td>\n",
       "      <td>No Accident</td>\n",
       "      <td>Left</td>\n",
       "      <td>Not promoted</td>\n",
       "      <td>sales</td>\n",
       "      <td>low</td>\n",
       "    </tr>\n",
       "    <tr>\n",
       "      <th>1</th>\n",
       "      <td>0.80</td>\n",
       "      <td>0.86</td>\n",
       "      <td>5</td>\n",
       "      <td>262</td>\n",
       "      <td>6</td>\n",
       "      <td>No Accident</td>\n",
       "      <td>Left</td>\n",
       "      <td>Not promoted</td>\n",
       "      <td>sales</td>\n",
       "      <td>medium</td>\n",
       "    </tr>\n",
       "    <tr>\n",
       "      <th>2</th>\n",
       "      <td>0.11</td>\n",
       "      <td>0.88</td>\n",
       "      <td>7</td>\n",
       "      <td>272</td>\n",
       "      <td>4</td>\n",
       "      <td>No Accident</td>\n",
       "      <td>Left</td>\n",
       "      <td>Not promoted</td>\n",
       "      <td>sales</td>\n",
       "      <td>medium</td>\n",
       "    </tr>\n",
       "    <tr>\n",
       "      <th>3</th>\n",
       "      <td>0.72</td>\n",
       "      <td>0.87</td>\n",
       "      <td>5</td>\n",
       "      <td>223</td>\n",
       "      <td>5</td>\n",
       "      <td>No Accident</td>\n",
       "      <td>Left</td>\n",
       "      <td>Not promoted</td>\n",
       "      <td>sales</td>\n",
       "      <td>low</td>\n",
       "    </tr>\n",
       "    <tr>\n",
       "      <th>4</th>\n",
       "      <td>0.37</td>\n",
       "      <td>0.52</td>\n",
       "      <td>2</td>\n",
       "      <td>159</td>\n",
       "      <td>3</td>\n",
       "      <td>No Accident</td>\n",
       "      <td>Left</td>\n",
       "      <td>Not promoted</td>\n",
       "      <td>sales</td>\n",
       "      <td>low</td>\n",
       "    </tr>\n",
       "  </tbody>\n",
       "</table>\n",
       "</div>"
      ],
      "text/plain": [
       "   satisfaction_level  last_evaluation  number_project  average_montly_hours  \\\n",
       "0                0.38             0.53               2                   157   \n",
       "1                0.80             0.86               5                   262   \n",
       "2                0.11             0.88               7                   272   \n",
       "3                0.72             0.87               5                   223   \n",
       "4                0.37             0.52               2                   159   \n",
       "\n",
       "   time_spend_company work_accident has_left_company promotion_last_5years  \\\n",
       "0                   3   No Accident             Left          Not promoted   \n",
       "1                   6   No Accident             Left          Not promoted   \n",
       "2                   4   No Accident             Left          Not promoted   \n",
       "3                   5   No Accident             Left          Not promoted   \n",
       "4                   3   No Accident             Left          Not promoted   \n",
       "\n",
       "  department  salary  \n",
       "0      sales     low  \n",
       "1      sales  medium  \n",
       "2      sales  medium  \n",
       "3      sales     low  \n",
       "4      sales     low  "
      ]
     },
     "execution_count": 10,
     "metadata": {},
     "output_type": "execute_result"
    }
   ],
   "source": [
    "# Drop duplicates and save resulting dataframe in a new variable as needed\n",
    "df_cleaned = df0.drop_duplicates()\n",
    "\n",
    "# Display first few rows of new dataframe as needed\n",
    "df_cleaned.head()"
   ]
  },
  {
   "cell_type": "markdown",
   "metadata": {
    "id": "4knHIoTIFu83"
   },
   "source": [
    "### Check outliers"
   ]
  },
  {
   "cell_type": "markdown",
   "metadata": {
    "id": "EaVx2fk8GC_m"
   },
   "source": [
    "Check for outliers in the data."
   ]
  },
  {
   "cell_type": "code",
   "execution_count": 11,
   "metadata": {
    "id": "pilaGYgh4LHM"
   },
   "outputs": [
    {
     "data": {
      "image/png": "[encoded data removed]",
      "text/plain": [
       "<Figure size 800x300 with 2 Axes>"
      ]
     },
     "metadata": {},
     "output_type": "display_data"
    }
   ],
   "source": [
    "# Show time employee spent at the company\n",
    "# Visuaize using boxplot & histogram\n",
    "\n",
    "# Make subplots for boxplot and histogram\n",
    "fig, axes = plt.subplots(1, 2, figsize=(8, 3))\n",
    "# Boxplot for tenure\n",
    "sns.boxplot(x='time_spend_company', data=df_cleaned, ax=axes[0])\n",
    "axes[0].set_title('Tenure')\n",
    "axes[0].set_xlabel('Tenure (in years)')\n",
    "# Histogram for tenure\n",
    "sns.histplot(df_cleaned['time_spend_company'], bins=30, ax=axes[1])\n",
    "axes[1].set_title('Distribution of Tenure')\n",
    "axes[1].set_xlabel('Tenure (in years)')\n",
    "axes[1].set_ylabel('Frequency') \n",
    "# Save the figure\n",
    "plt.tight_layout()\n",
    "plt.savefig(fig_dir / 'tenure_distribution.pdf')\n",
    "plt.show()"
   ]
  },
  {
   "cell_type": "code",
   "execution_count": 12,
   "metadata": {
    "id": "ohctgiHyFykI"
   },
   "outputs": [
    {
     "name": "stdout",
     "output_type": "stream",
     "text": [
      "Number of outliers in 'time_spend_company': 824\n"
     ]
    }
   ],
   "source": [
    "# Determine the number of rows containing outliers\n",
    "# Calculate the IQR for 'time_spend_company'\n",
    "Q1 = df_cleaned['time_spend_company'].quantile(0.25)\n",
    "Q3 = df_cleaned['time_spend_company'].quantile(0.75)\n",
    "IQR = Q3 - Q1\n",
    "# Define the lower and upper bounds for outliers\n",
    "lower_bound = Q1 - 1.5 * IQR\n",
    "upper_bound = Q3 + 1.5 * IQR\n",
    "# Count the number of outliers\n",
    "outliers_count = df_cleaned[(df_cleaned['time_spend_company'] < lower_bound) | (df_cleaned['time_spend_company'] > upper_bound)].shape[0]\n",
    "print(f\"Number of outliers in 'time_spend_company': {outliers_count}\")\n",
    "# Remove outliers from the DataFrame\n",
    "df_no_outliers = df_cleaned[(df_cleaned['time_spend_company'] >= lower_bound) & (df_cleaned['time_spend_company'] <= upper_bound)]"
   ]
  },
  {
   "cell_type": "code",
   "execution_count": 13,
   "metadata": {},
   "outputs": [
    {
     "data": {
      "image/png": "[encoded data removed]",
      "text/plain": [
       "<Figure size 800x300 with 2 Axes>"
      ]
     },
     "metadata": {},
     "output_type": "display_data"
    }
   ],
   "source": [
    "# Replot the boxplot and histogram without outliers\n",
    "fig, axes = plt.subplots(1, 2, figsize=(8, 3))\n",
    "# Boxplot for tenure without outliers\n",
    "sns.boxplot(x='time_spend_company', data=df_no_outliers, ax=axes[0])\n",
    "axes[0].set_title('Tenure (without outliers)')\n",
    "axes[0].set_xlabel('Tenure (in years)')\n",
    "# Histogram for tenure without outliers\n",
    "sns.histplot(df_no_outliers['time_spend_company'], bins=30, ax=axes[1])\n",
    "axes[1].set_title('Distribution of Tenure (without outliers)')\n",
    "axes[1].set_xlabel('Tenure (in years)')\n",
    "axes[1].set_ylabel('Frequency')\n",
    "# Save the figure\n",
    "plt.tight_layout()\n",
    "plt.savefig(fig_dir / 'tenure_distribution_no_outliers.pdf')\n",
    "plt.show()"
   ]
  },
  {
   "cell_type": "code",
   "execution_count": 14,
   "metadata": {},
   "outputs": [],
   "source": [
    "df_no_outliers.to_csv(data_dir / 'processed' / 'HR_capstone_dataset_no_outliers.csv', index=False)"
   ]
  }
 ],
 "metadata": {
  "colab": {
   "provenance": []
  },
  "gpuClass": "standard",
  "kernelspec": {
   "display_name": "Python 3.13 - Marsilea",
   "language": "python",
   "name": "marsilea"
  },
  "language_info": {
   "codemirror_mode": {
    "name": "ipython",
    "version": 3
   },
   "file_extension": ".py",
   "mimetype": "text/x-python",
   "name": "python",
   "nbconvert_exporter": "python",
   "pygments_lexer": "ipython3",
   "version": "3.13.5"
  }
 },
 "nbformat": 4,
 "nbformat_minor": 1
}
