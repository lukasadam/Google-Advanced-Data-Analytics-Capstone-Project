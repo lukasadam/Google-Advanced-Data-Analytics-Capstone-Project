{
 "cells": [
  {
   "cell_type": "markdown",
   "metadata": {
    "id": "ysS5rgTMWpwL"
   },
   "source": [
    "# 03 - Feature Engineering"
   ]
  },
  {
   "cell_type": "markdown",
   "metadata": {
    "id": "51UAXIOLC_8P"
   },
   "source": [
    "### Import packages"
   ]
  },
  {
   "cell_type": "code",
   "execution_count": 1,
   "metadata": {
    "id": "hVWGpX9As4e1"
   },
   "outputs": [],
   "source": [
    "# Import packages\n",
    "import os\n",
    "import numpy as np\n",
    "import pandas as pd\n",
    "import seaborn as sns\n",
    "import scipy.stats as stats\n",
    "import matplotlib.pyplot as plt\n",
    "from pathlib import Path\n",
    "from statsmodels.stats.outliers_influence import variance_inflation_factor\n",
    "from statsmodels.tools.tools import add_constant\n",
    "\n",
    "# Set base directory \n",
    "base_dir = Path(os.getcwd()).parent\n",
    "\n",
    "# Set default figure directory\n",
    "fig_dir = base_dir / \"figures\"\n",
    "fig_dir.mkdir(parents=True, exist_ok=True)\n",
    "\n",
    "# Set matplotlib backend to PDF-friendly (optional, for consistent rendering)\n",
    "plt.rcParams[\"pdf.fonttype\"] = 42  # Ensures text is saved as text (not paths)\n",
    "plt.rcParams[\"ps.fonttype\"] = 42"
   ]
  },
  {
   "cell_type": "markdown",
   "metadata": {},
   "source": [
    "### Load data"
   ]
  },
  {
   "cell_type": "code",
   "execution_count": 2,
   "metadata": {
    "id": "Bs0cJR5BDPgQ"
   },
   "outputs": [],
   "source": [
    "# Load the dataset\n",
    "data_dir = base_dir / \"data\" \n",
    "data_file = data_dir / \"processed\" / \"HR_capstone_dataset_no_outliers.csv\"\n",
    "\n",
    "# Read the cleaned CSV file into a pandas DataFrame\n",
    "df_cleaned = pd.read_csv(data_file)"
   ]
  },
  {
   "cell_type": "code",
   "execution_count": 3,
   "metadata": {},
   "outputs": [
    {
     "data": {
      "application/vnd.microsoft.datawrangler.viewer.v0+json": {
       "columns": [
        {
         "name": "index",
         "rawType": "int64",
         "type": "integer"
        },
        {
         "name": "satisfaction_level",
         "rawType": "float64",
         "type": "float"
        },
        {
         "name": "last_evaluation",
         "rawType": "float64",
         "type": "float"
        },
        {
         "name": "number_project",
         "rawType": "int64",
         "type": "integer"
        },
        {
         "name": "average_montly_hours",
         "rawType": "int64",
         "type": "integer"
        },
        {
         "name": "time_spend_company",
         "rawType": "int64",
         "type": "integer"
        },
        {
         "name": "work_accident",
         "rawType": "object",
         "type": "string"
        },
        {
         "name": "has_left_company",
         "rawType": "object",
         "type": "string"
        },
        {
         "name": "promotion_last_5years",
         "rawType": "object",
         "type": "string"
        },
        {
         "name": "department",
         "rawType": "object",
         "type": "string"
        },
        {
         "name": "salary",
         "rawType": "object",
         "type": "string"
        }
       ],
       "ref": "350487e9-167b-45ec-86b9-f7156c524d04",
       "rows": [
        [
         "0",
         "0.38",
         "0.53",
         "2",
         "157",
         "3",
         "No Accident",
         "Left",
         "Not promoted",
         "sales",
         "low"
        ],
        [
         "1",
         "0.11",
         "0.88",
         "7",
         "272",
         "4",
         "No Accident",
         "Left",
         "Not promoted",
         "sales",
         "medium"
        ],
        [
         "2",
         "0.72",
         "0.87",
         "5",
         "223",
         "5",
         "No Accident",
         "Left",
         "Not promoted",
         "sales",
         "low"
        ],
        [
         "3",
         "0.37",
         "0.52",
         "2",
         "159",
         "3",
         "No Accident",
         "Left",
         "Not promoted",
         "sales",
         "low"
        ],
        [
         "4",
         "0.41",
         "0.5",
         "2",
         "153",
         "3",
         "No Accident",
         "Left",
         "Not promoted",
         "sales",
         "low"
        ]
       ],
       "shape": {
        "columns": 10,
        "rows": 5
       }
      },
      "text/html": [
       "<div>\n",
       "<style scoped>\n",
       "    .dataframe tbody tr th:only-of-type {\n",
       "        vertical-align: middle;\n",
       "    }\n",
       "\n",
       "    .dataframe tbody tr th {\n",
       "        vertical-align: top;\n",
       "    }\n",
       "\n",
       "    .dataframe thead th {\n",
       "        text-align: right;\n",
       "    }\n",
       "</style>\n",
       "<table border=\"1\" class=\"dataframe\">\n",
       "  <thead>\n",
       "    <tr style=\"text-align: right;\">\n",
       "      <th></th>\n",
       "      <th>satisfaction_level</th>\n",
       "      <th>last_evaluation</th>\n",
       "      <th>number_project</th>\n",
       "      <th>average_montly_hours</th>\n",
       "      <th>time_spend_company</th>\n",
       "      <th>work_accident</th>\n",
       "      <th>has_left_company</th>\n",
       "      <th>promotion_last_5years</th>\n",
       "      <th>department</th>\n",
       "      <th>salary</th>\n",
       "    </tr>\n",
       "  </thead>\n",
       "  <tbody>\n",
       "    <tr>\n",
       "      <th>0</th>\n",
       "      <td>0.38</td>\n",
       "      <td>0.53</td>\n",
       "      <td>2</td>\n",
       "      <td>157</td>\n",
       "      <td>3</td>\n",
       "      <td>No Accident</td>\n",
       "      <td>Left</td>\n",
       "      <td>Not promoted</td>\n",
       "      <td>sales</td>\n",
       "      <td>low</td>\n",
       "    </tr>\n",
       "    <tr>\n",
       "      <th>1</th>\n",
       "      <td>0.11</td>\n",
       "      <td>0.88</td>\n",
       "      <td>7</td>\n",
       "      <td>272</td>\n",
       "      <td>4</td>\n",
       "      <td>No Accident</td>\n",
       "      <td>Left</td>\n",
       "      <td>Not promoted</td>\n",
       "      <td>sales</td>\n",
       "      <td>medium</td>\n",
       "    </tr>\n",
       "    <tr>\n",
       "      <th>2</th>\n",
       "      <td>0.72</td>\n",
       "      <td>0.87</td>\n",
       "      <td>5</td>\n",
       "      <td>223</td>\n",
       "      <td>5</td>\n",
       "      <td>No Accident</td>\n",
       "      <td>Left</td>\n",
       "      <td>Not promoted</td>\n",
       "      <td>sales</td>\n",
       "      <td>low</td>\n",
       "    </tr>\n",
       "    <tr>\n",
       "      <th>3</th>\n",
       "      <td>0.37</td>\n",
       "      <td>0.52</td>\n",
       "      <td>2</td>\n",
       "      <td>159</td>\n",
       "      <td>3</td>\n",
       "      <td>No Accident</td>\n",
       "      <td>Left</td>\n",
       "      <td>Not promoted</td>\n",
       "      <td>sales</td>\n",
       "      <td>low</td>\n",
       "    </tr>\n",
       "    <tr>\n",
       "      <th>4</th>\n",
       "      <td>0.41</td>\n",
       "      <td>0.50</td>\n",
       "      <td>2</td>\n",
       "      <td>153</td>\n",
       "      <td>3</td>\n",
       "      <td>No Accident</td>\n",
       "      <td>Left</td>\n",
       "      <td>Not promoted</td>\n",
       "      <td>sales</td>\n",
       "      <td>low</td>\n",
       "    </tr>\n",
       "  </tbody>\n",
       "</table>\n",
       "</div>"
      ],
      "text/plain": [
       "   satisfaction_level  last_evaluation  number_project  average_montly_hours  \\\n",
       "0                0.38             0.53               2                   157   \n",
       "1                0.11             0.88               7                   272   \n",
       "2                0.72             0.87               5                   223   \n",
       "3                0.37             0.52               2                   159   \n",
       "4                0.41             0.50               2                   153   \n",
       "\n",
       "   time_spend_company work_accident has_left_company promotion_last_5years  \\\n",
       "0                   3   No Accident             Left          Not promoted   \n",
       "1                   4   No Accident             Left          Not promoted   \n",
       "2                   5   No Accident             Left          Not promoted   \n",
       "3                   3   No Accident             Left          Not promoted   \n",
       "4                   3   No Accident             Left          Not promoted   \n",
       "\n",
       "  department  salary  \n",
       "0      sales     low  \n",
       "1      sales  medium  \n",
       "2      sales     low  \n",
       "3      sales     low  \n",
       "4      sales     low  "
      ]
     },
     "execution_count": 3,
     "metadata": {},
     "output_type": "execute_result"
    }
   ],
   "source": [
    "df_cleaned.head()"
   ]
  },
  {
   "cell_type": "code",
   "execution_count": null,
   "metadata": {},
   "outputs": [],
   "source": []
  }
 ],
 "metadata": {
  "colab": {
   "provenance": []
  },
  "gpuClass": "standard",
  "kernelspec": {
   "display_name": "Python 3.13 - Marsilea",
   "language": "python",
   "name": "marsilea"
  },
  "language_info": {
   "codemirror_mode": {
    "name": "ipython",
    "version": 3
   },
   "file_extension": ".py",
   "mimetype": "text/x-python",
   "name": "python",
   "nbconvert_exporter": "python",
   "pygments_lexer": "ipython3",
   "version": "3.13.5"
  }
 },
 "nbformat": 4,
 "nbformat_minor": 1
}
